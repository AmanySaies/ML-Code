{
 "cells": [
  {
   "cell_type": "code",
   "execution_count": 3,
   "id": "81c734eb",
   "metadata": {},
   "outputs": [
    {
     "name": "stdout",
     "output_type": "stream",
     "text": [
      "Original class distribution: Counter({0: 6844, 1: 690})\n",
      "Resampled class distribution: Counter({0: 690, 1: 690})\n",
      "Average Accuracy: 0.6833\n",
      "Average Precision: 0.6844\n",
      "Average Recall: 0.6841\n",
      "Average F1 Score: 0.6830\n",
      "\n",
      "Average Confusion Matrix:\n",
      " [[47.1 21.9]\n",
      " [21.8 47.2]]\n"
     ]
    }
   ],
   "source": [
    "import pandas as pd\n",
    "from imblearn.under_sampling import RandomUnderSampler\n",
    "from sklearn.ensemble import RandomForestClassifier\n",
    "from sklearn.model_selection import StratifiedKFold\n",
    "from sklearn.metrics import accuracy_score, precision_score, recall_score, f1_score, confusion_matrix\n",
    "from collections import Counter\n",
    "import numpy as np\n",
    "\n",
    "# Load the dataset from the 'result.xlsx' file\n",
    "file_path = '../result.xlsx'  # Replace with your actual file path\n",
    "data = pd.read_excel(file_path)\n",
    "\n",
    "# Assuming the target variable is in the last column\n",
    "X = data.iloc[:, :-1]  # Features\n",
    "y = data.iloc[:, -1]   # Target variable\n",
    "\n",
    "# Print the original class distribution\n",
    "print(f\"Original class distribution: {Counter(y)}\")\n",
    "\n",
    "# Initialize RandomUnderSampler\n",
    "undersampler = RandomUnderSampler(random_state=42)\n",
    "\n",
    "# Apply RandomUnderSampler to the whole dataset\n",
    "X_resampled, y_resampled = undersampler.fit_resample(X, y)\n",
    "\n",
    "# Print the new class distribution after undersampling\n",
    "print(f\"Resampled class distribution: {Counter(y_resampled)}\")\n",
    "\n",
    "# Initialize the classifier\n",
    "clf = RandomForestClassifier(random_state=42)\n",
    "\n",
    "# Initialize StratifiedKFold with 10 folds\n",
    "skf = StratifiedKFold(n_splits=10, shuffle=True, random_state=42)\n",
    "\n",
    "# Store metrics for each fold\n",
    "accuracies = []\n",
    "precisions = []\n",
    "recalls = []\n",
    "f1s = []\n",
    "confusion_matrices = []\n",
    "\n",
    "# Perform cross-validation on the resampled dataset\n",
    "for train_index, test_index in skf.split(X_resampled, y_resampled):\n",
    "    X_train, X_test = X_resampled.iloc[train_index], X_resampled.iloc[test_index]\n",
    "    y_train, y_test = y_resampled.iloc[train_index], y_resampled.iloc[test_index]\n",
    "    \n",
    "    # Train the classifier on the resampled training data\n",
    "    clf.fit(X_train, y_train)\n",
    "    \n",
    "    # Predict on the test set\n",
    "    y_pred = clf.predict(X_test)\n",
    "    \n",
    "    # Calculate metrics for this fold\n",
    "    accuracies.append(accuracy_score(y_test, y_pred))\n",
    "    precisions.append(precision_score(y_test, y_pred, average='binary', zero_division=0))\n",
    "    recalls.append(recall_score(y_test, y_pred, average='binary', zero_division=0))\n",
    "    f1s.append(f1_score(y_test, y_pred, average='binary', zero_division=0))\n",
    "    confusion_matrices.append(confusion_matrix(y_test, y_pred))\n",
    "\n",
    "# Print average metrics\n",
    "print(f\"Average Accuracy: {np.mean(accuracies):.4f}\")\n",
    "print(f\"Average Precision: {np.mean(precisions):.4f}\")\n",
    "print(f\"Average Recall: {np.mean(recalls):.4f}\")\n",
    "print(f\"Average F1 Score: {np.mean(f1s):.4f}\")\n",
    "\n",
    "# Print average confusion matrix\n",
    "average_confusion_matrix = np.mean(confusion_matrices, axis=0)\n",
    "print(\"\\nAverage Confusion Matrix:\\n\", average_confusion_matrix)\n"
   ]
  },
  {
   "cell_type": "code",
   "execution_count": null,
   "id": "3e791bf7",
   "metadata": {},
   "outputs": [],
   "source": []
  }
 ],
 "metadata": {
  "kernelspec": {
   "display_name": "Python 3 (ipykernel)",
   "language": "python",
   "name": "python3"
  },
  "language_info": {
   "codemirror_mode": {
    "name": "ipython",
    "version": 3
   },
   "file_extension": ".py",
   "mimetype": "text/x-python",
   "name": "python",
   "nbconvert_exporter": "python",
   "pygments_lexer": "ipython3",
   "version": "3.9.7"
  }
 },
 "nbformat": 4,
 "nbformat_minor": 5
}
